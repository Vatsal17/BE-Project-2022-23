{
  "cells": [
    {
      "cell_type": "markdown",
      "metadata": {
        "id": "ceyyYgO9Qbpa"
      },
      "source": [
        "# MP305 Network Flow Models I"
      ]
    },
    {
      "cell_type": "code",
      "execution_count": 1,
      "metadata": {
        "id": "WC_D1wUdQbpb"
      },
      "outputs": [],
      "source": [
        "from IPython.display import display, Math, Latex"
      ]
    },
    {
      "cell_type": "markdown",
      "metadata": {
        "id": "XWm3oORGQbpd"
      },
      "source": [
        "## Overview\n",
        "\n",
        "This file contains a number of Python functions for finding the maximal flow through a network $G$ subject to minimal cost using the Ford Fulkerson Algorithm.\n",
        "\n",
        "The network graph $G$ is stored in a set `G` of two element tuples `(i,j)` describing the directed arcs $(i,j)$ of $G$.\n",
        "\n",
        "It is assumed that node number $1$ is the source and the greatest node `Nsink` is the sink.  \n",
        "Thus `G={(1,2),(2,3),(1,3)}`  describes a network with 3 nodes where node 1 is the source and node 3 is the sink.\n",
        "\n",
        "The capacity $c(i,j)$, flow $\\phi(i,j)$ and cost $l(i,j)$ of the arc $(i,j)$ of $G$ are stored in `c[i][j]`, `phi[i][j]` and `l[i][j]`.\n",
        "Here `c`, `phi` and `l` are Python lists.\n",
        "\n",
        "## Python Functions\n",
        "### The `Initialise(G)` function\n",
        "Having defined the network $G$, initialise `c`, `phi` and `l` values to zero via the `Initialise` function before defining their values in any particular example.  The global variable `Nsink`,  the sink node of $G$, is also found by the `Initialise` function .\n",
        "\n",
        "### The main `Iterate(G)`function\n",
        "This implements the full algorithm to find the maximum flow with minimal cost."
      ]
    },
    {
      "cell_type": "code",
      "execution_count": null,
      "metadata": {
        "id": "YqfhAH1qQbpe"
      },
      "outputs": [],
      "source": []
    },
    {
      "cell_type": "markdown",
      "metadata": {
        "id": "LIZtKZDgQbpe"
      },
      "source": [
        "## The `Iterate(G)` function is based on a number of other Python functions:\n",
        "\n",
        "### `Flows(G)`\n",
        "This checks for conservation of flow and prints out all of the current flows for G and the total cost of this flow.\n",
        "\n",
        "###  `Links(G)`\n",
        "This finds all arcs `(i,j1)`, ` (i,j2)`,  ... *out* of node `i` of `G`.  The nodes `j1,j2,..` are stored in a global list of sets `Out`.\n",
        "\n",
        "###  `SourceSink(G)`\n",
        "This finds all of the paths from source to sink in any network `G` and results in a global set `SinkPaths` of such paths.\n",
        "\n",
        "###  `IncremNet(G)`\n",
        "This finds the Incremental Network `Gp` associated with the current flow of the network `G`.\n",
        "\n",
        "###  `Newflows(G)`\n",
        "This updates the flows `phi` of `G` according to the best chain found through `Gp`. If the maximal flow is reached, then this is indicated and the maximum flow value is outputed. Otherwise, the output is: the change in flow (`eps`), the cost of the best chain, and the best chain.\n",
        "\n",
        "###  `Iterate(G)`\n",
        "Implements the full algorithm to find the maximum flow with minimal cost.\n",
        "The output is as follows:\n",
        "\n",
        "(1) The incremental network `Gp`.\n",
        "\n",
        "(2) The paths through `Gp` from source to sink.\n",
        "\n",
        "(3) The output of `Newflows(G)`.\n",
        "\n",
        "(4) The output of `Flows(G)` giving the current flows and cost of `G`.\n"
      ]
    },
    {
      "cell_type": "code",
      "execution_count": null,
      "metadata": {
        "id": "Buf6Bq7oQbpf"
      },
      "outputs": [],
      "source": []
    },
    {
      "cell_type": "code",
      "execution_count": 2,
      "metadata": {
        "id": "F9pbLpcgQbpf"
      },
      "outputs": [],
      "source": [
        "def Initialise (Gin):\n",
        "    global c,phi,l,cp,lp,Nsink\n",
        "    Nsink=1\n",
        "    for arc in Gin:\n",
        "        i,j=arc\n",
        "        Nsink=max(Nsink,i,j)\n",
        "    # for convenience c[i][j] is capacity of arc [i,j]\n",
        "    c=[[0 for i in range(Nsink+1)] for j in range(Nsink+1)]\n",
        "    phi=[[0 for i in range(Nsink+1)] for j in range(Nsink+1)]\n",
        "    l=[[0 for i in range(Nsink+1)] for j in range(Nsink+1)]\n",
        "    cp=[[0 for i in range(Nsink+1)] for j in range(Nsink+1)]\n",
        "    lp=[[0 for i in range(Nsink+1)] for j in range(Nsink+1)]\n",
        "    print(\"All values of c,phi and l initialised to zero\")\n"
      ]
    },
    {
      "cell_type": "code",
      "execution_count": 3,
      "metadata": {
        "id": "92AMzGGmQbpg"
      },
      "outputs": [],
      "source": [
        "def Flows (Gin):\n",
        "    global Nsink,l,phi\n",
        "    Flowin=[0 for i in range(Nsink+1)]\n",
        "    Flowout=[0 for i in range(Nsink+1)]\n",
        "    for arc in Gin:\n",
        "        i,j=arc\n",
        "        Flowin[j] = Flowin[j] + phi[i][j]\n",
        "        Flowout[i] = Flowout[i] + phi[i][j]\n",
        "    for k in range(2,Nsink):\n",
        "        if Flowin[k] != Flowout[k]:\n",
        "            print(\"*** ERROR *** Flow not conserved at node\", k)\n",
        "    if Flowout[1] != Flowin[Nsink]:\n",
        "        print(\"*** ERROR *** Flow not conserved at source or sink\")\n",
        "    Totalcost = 0\n",
        "    for arc in Gin:\n",
        "        i,j=arc\n",
        "        phi_ij = phi[i][j]\n",
        "        Totalcost = Totalcost + l[i][j]*phi_ij\n",
        "        print(arc,\" has flow \",phi_ij)\n",
        "    print(\"Total Cost is \", Totalcost)\n"
      ]
    },
    {
      "cell_type": "code",
      "execution_count": 4,
      "metadata": {
        "id": "t8l272MmQbph"
      },
      "outputs": [],
      "source": [
        "def Links (Gin):\n",
        "    global Nsink,Out\n",
        "    Out=[set() for k in range(Nsink)] # labelled 0..Nsink-1\n",
        "    for arc in Gin:\n",
        "        i,j = arc\n",
        "        Out[i - 1] = Out[i - 1] | set([j])"
      ]
    },
    {
      "cell_type": "code",
      "execution_count": 5,
      "metadata": {
        "id": "_4BARdR3Qbpi"
      },
      "outputs": [],
      "source": [
        "def SourceSink(Gin):\n",
        "# finds all paths SinkPaths from source 1 to sink Nsink of network G\n",
        "    global Nsink,SinkPaths\n",
        "    Links(Gin)\n",
        "    Paths = set() # current paths from source stored as set of tuples\n",
        "    SinkPaths = set() # paths from source to sink Nsink stored as set of tuples\n",
        "    path = 1 # source node label\n",
        "    for node in Out[0]:# need out edge from node 1\n",
        "        pathn = (path,node)\n",
        "        if node == Nsink:\n",
        "            SinkPaths = SinkPaths | set([pathn])\n",
        "        else:\n",
        "            Paths = Paths | set([pathn])\n",
        "    Npaths = len(Paths)\n",
        "    while (0 < Npaths):\n",
        "        NewPaths = set()\n",
        "        for oldpath in Paths:\n",
        "            nold = len(oldpath)\n",
        "            m = oldpath[-1] # last node in tuple oldpath\n",
        "            for mout in Out[m-1]:\n",
        "                if not mout in oldpath:\n",
        "                    if mout == Nsink:\n",
        "                        SinkPaths = SinkPaths | set([oldpath+tuple([Nsink])])\n",
        "                    else:\n",
        "                        NewPaths = NewPaths | set([oldpath+tuple([mout])])\n",
        "        Paths = NewPaths\n",
        "        Npaths = len(Paths)\n",
        "    print(\"Paths from source to sink: \",SinkPaths)"
      ]
    },
    {
      "cell_type": "code",
      "execution_count": 6,
      "metadata": {
        "id": "O3RUzcpGQbpi"
      },
      "outputs": [],
      "source": [
        "def IncremNet(Gin):\n",
        "# procedure to create incremental network Gp from given flow network G\n",
        "    global Gp,Nsink,phi,c,l,cp,lp,ArcSign\n",
        "# define lists for ArcSign, cp and lp  (indexed by 0..Nsink-1)\n",
        "    cp=[[0 for i in range(Nsink+1)] for j in range(Nsink+1)]\n",
        "    lp=[[0 for i in range(Nsink+1)] for j in range(Nsink+1)]\n",
        "    ArcSign=[[0 for i in range(Nsink+1)] for j in range(Nsink+1)]\n",
        "    Gp=set([])\n",
        "    for arc in Gin:\n",
        "        i,j=arc\n",
        "        pij = phi[i][j]; pji = phi[j][i]; cij = c[i][j]; lij = l[i][j]\n",
        "        if (pij < cij and (pji == 0 or not (j,i) in Gin)): # ij arc\n",
        "            #Gp edges, capacitites and costs added\n",
        "            cpij = cij - pij; cp[i][j] = cpij; lpij = lij; lp[i][j] =lpij\n",
        "            ArcSign[i][j] = 1\n",
        "            Gp=Gp | {(i,j)}\n",
        "        if pij>0: # ji arc\n",
        "            cpji = pij; cp[j][i] = cpji; lpji=-lij; lp[j][i] = lpji\n",
        "            ArcSign[j][i] = -1\n",
        "            Gp=Gp | {(j,i)}\n",
        "    print(\"Incremental Network:\",Gp)"
      ]
    },
    {
      "cell_type": "code",
      "execution_count": 7,
      "metadata": {
        "id": "e2SUU2zmQbpj"
      },
      "outputs": [],
      "source": [
        "def Newflows(Gin):\n",
        "# A procedure to modify original flows on Gin along SinkPaths of Gp with minimal cost\n",
        "    global Gp,phi,c,l,cp,lp,ArcSign,Out\n",
        "    SourceSink(Gp)\n",
        "    if SinkPaths == set():\n",
        "        Links(Gin)\n",
        "        Flow = 0\n",
        "        for node in Out[0]:\n",
        "            Flow = Flow + phi[1][node]\n",
        "        Cost=0\n",
        "        for arc in Gin:\n",
        "            i,j=arc\n",
        "            Cost=Cost+l[i][j]*phi[i][j]\n",
        "        print(\"Maximal flow found:\", Flow, \" with minimal cost \", Cost)\n",
        "    else:\n",
        "        for k in range(len(SinkPaths)):\n",
        "            cost = 0\n",
        "            epset = set()\n",
        "            path=list(SinkPaths)[k]\n",
        "            for n in range(0, len(path)-1):\n",
        "                i = path[n]; j = path[n+1];  epset = epset | set([cp[i][j]]); cost = lp[i][j] + cost\n",
        "            eps = min(tuple(epset))\n",
        "            if k == 0: # first path\n",
        "                mincost = cost; bestpath = path; besteps = eps\n",
        "            elif cost < mincost:\n",
        "                mincost = cost; bestpath = path; besteps = eps\n",
        "        print(\"A best path in Gp is \", bestpath, \" of minimum cost \", mincost)\n",
        "        print(\"The min capacity on this path is epsilon \", besteps)\n",
        "        print(\"The min cost is \", mincost)\n",
        "        for k in range(0, len(bestpath) - 1):\n",
        "            i = bestpath[k]; j = bestpath[k+1]\n",
        "            if ArcSign[i][j] == 1:\n",
        "                phinewij = phi[i][j] + besteps; phi[i][j]=phinewij\n",
        "            else:\n",
        "                phinewji=phi[j][i] = phi[j][i] - besteps; phi[j][i]=phinewji\n",
        "    #print(\"Flow=\",Flow)"
      ]
    },
    {
      "cell_type": "code",
      "execution_count": 8,
      "metadata": {
        "id": "QPBj9BTCQbpj"
      },
      "outputs": [],
      "source": [
        "def Iterate(Gin):\n",
        "    IncremNet(Gin)\n",
        "    Newflows(Gin)\n",
        "    for arc in Gin:\n",
        "        i,j=arc\n",
        "        print((i,j),\" flow = \", phi[i][j])"
      ]
    },
    {
      "cell_type": "code",
      "execution_count": null,
      "metadata": {
        "id": "5iwlxiq8Qbpk"
      },
      "outputs": [],
      "source": []
    },
    {
      "cell_type": "code",
      "execution_count": null,
      "metadata": {
        "id": "sXFC4ts8Qbpk"
      },
      "outputs": [],
      "source": []
    },
    {
      "cell_type": "markdown",
      "metadata": {
        "id": "s371739IQbpk"
      },
      "source": [
        "# Example 1. The first example discussed in lectures.\n",
        "## The capacity $c(i,j)$ and flow $\\phi(i,j)$ are shown on each arc $(i,j)$\n",
        "\n",
        "![Network](https://github.com/mcgettrick/mp305/blob/main/Lab1_1.jpg?raw=1)\n"
      ]
    },
    {
      "cell_type": "markdown",
      "metadata": {
        "id": "2eGP33AQQbpk"
      },
      "source": [
        "### \\* Find the incremental network and capacities at each iteration of the Ford Fulkerson algorithm.\n",
        "### \\* In the last iteration when the maximal flow is found,  identify which arcs are normal and which are inverted in the incremental network.\n",
        "### \\* Hence find the minimal capacity cut of this network flow model."
      ]
    },
    {
      "cell_type": "code",
      "execution_count": null,
      "metadata": {
        "id": "7KuZI_2yQbpl"
      },
      "outputs": [],
      "source": [
        "G={(1,2),(1,3),(2,3),(2,4),(2,5),(3,5),(4,6),(5,4),(5,6)}"
      ]
    },
    {
      "cell_type": "code",
      "execution_count": null,
      "metadata": {
        "id": "_k-UVrwLQbpl"
      },
      "outputs": [],
      "source": [
        "Initialise (G)"
      ]
    },
    {
      "cell_type": "code",
      "execution_count": null,
      "metadata": {
        "id": "5pqr0RpbQbpl"
      },
      "outputs": [],
      "source": [
        "Flows(G)"
      ]
    },
    {
      "cell_type": "markdown",
      "metadata": {
        "id": "3Ck2-hVaQbpl"
      },
      "source": [
        "## Define Capacities"
      ]
    },
    {
      "cell_type": "code",
      "execution_count": null,
      "metadata": {
        "id": "CisgIH-5Qbpl"
      },
      "outputs": [],
      "source": [
        "c[1][2] = 4; c[1][3] = 5; c[2][3] = 2\n",
        "c[2][4] = 1; c[2][5] = 4; c[3][5] = 3\n",
        "c[4][6] = 2; c[5][4] = 2; c[5][6] = 6"
      ]
    },
    {
      "cell_type": "markdown",
      "metadata": {
        "id": "tcj45mIlQbpm"
      },
      "source": [
        "## Define Flows"
      ]
    },
    {
      "cell_type": "code",
      "execution_count": null,
      "metadata": {
        "id": "gfSJ7mvQQbpm"
      },
      "outputs": [],
      "source": [
        "phi[1][2]=4; phi[1][3]=1; phi[2][3]=2; phi[2][4]=1; phi[2][5]=1\n",
        "phi[3][5]=3; phi[4][6]=2; phi[5][4]=1; phi[5][6]=3"
      ]
    },
    {
      "cell_type": "code",
      "execution_count": null,
      "metadata": {
        "id": "VAKKY6UOQbpm"
      },
      "outputs": [],
      "source": [
        "Flows(G)"
      ]
    },
    {
      "cell_type": "markdown",
      "metadata": {
        "id": "Tlewfn7nQbpm"
      },
      "source": [
        "## Use `Iterate` to run one iteration of the Ford Fulkerson Algorithm"
      ]
    },
    {
      "cell_type": "code",
      "execution_count": null,
      "metadata": {
        "id": "NKR-BWWLQbpn"
      },
      "outputs": [],
      "source": [
        "Iterate(G)"
      ]
    },
    {
      "cell_type": "code",
      "execution_count": null,
      "metadata": {
        "id": "2m9OfV-AQbpn"
      },
      "outputs": [],
      "source": [
        "Iterate(G)"
      ]
    },
    {
      "cell_type": "code",
      "execution_count": null,
      "metadata": {
        "id": "fo1NsWyhQbpn"
      },
      "outputs": [],
      "source": []
    },
    {
      "cell_type": "code",
      "execution_count": null,
      "metadata": {
        "id": "Kzd0OQalQbpn"
      },
      "outputs": [],
      "source": []
    },
    {
      "cell_type": "markdown",
      "metadata": {
        "id": "GE2rmwreQbpn"
      },
      "source": [
        "## In the following two problems, first define the network and  its capacities following the template of problem 1 and then run the `Python`|code.\n",
        "\n",
        "\n"
      ]
    },
    {
      "cell_type": "markdown",
      "metadata": {
        "id": "HSmrPh70Qbpn"
      },
      "source": [
        "## Q.2 (*) . Find the maximal flow through the following network with the given capacities:\n",
        "![Network](https://github.com/mcgettrick/mp305/blob/main/Lab1_2.jpg?raw=1)"
      ]
    },
    {
      "cell_type": "code",
      "execution_count": null,
      "metadata": {
        "id": "q3pvSriWQbpo"
      },
      "outputs": [],
      "source": []
    },
    {
      "cell_type": "markdown",
      "metadata": {
        "id": "KlwbDdjNQbpo"
      },
      "source": [
        "##  Define the network `G` and the capacities `c[i][j]` for the given data and follow the same sequence of steps as for Q.1 with zero initial flow.\n",
        "### \\* Set the initial flow to zero at each arc and find the incremental network and capacities at each iteration of the Ford-Fulkerson algorithm.\n",
        "### \\* In the last iteration when the maximal flow is found,  identify which arcs are normal and which are inverted in the incremental network.\n",
        "### \\* Hence find the minimal capacity cut of this network flow model."
      ]
    },
    {
      "cell_type": "code",
      "execution_count": 9,
      "metadata": {
        "id": "s904PLOhQbpo"
      },
      "outputs": [],
      "source": [
        "G2={(1,2),(1,3),(2,3),(2,5),(3,2),(3,4),(4,2),(4,5)}"
      ]
    },
    {
      "cell_type": "code",
      "execution_count": 10,
      "metadata": {
        "id": "vj9EWmsQQbpo",
        "outputId": "935a7a71-2a4d-4d62-c0b3-6d4fbc374c2b",
        "colab": {
          "base_uri": "https://localhost:8080/"
        }
      },
      "outputs": [
        {
          "output_type": "stream",
          "name": "stdout",
          "text": [
            "All values of c,phi and l initialised to zero\n"
          ]
        }
      ],
      "source": [
        "Initialise (G2)"
      ]
    },
    {
      "cell_type": "code",
      "execution_count": 11,
      "metadata": {
        "id": "QjnUVtimQbpp",
        "outputId": "4f107769-cf57-4821-8423-411323952dcf",
        "colab": {
          "base_uri": "https://localhost:8080/"
        }
      },
      "outputs": [
        {
          "output_type": "stream",
          "name": "stdout",
          "text": [
            "(1, 2)  has flow  0\n",
            "(3, 4)  has flow  0\n",
            "(4, 2)  has flow  0\n",
            "(2, 3)  has flow  0\n",
            "(4, 5)  has flow  0\n",
            "(3, 2)  has flow  0\n",
            "(2, 5)  has flow  0\n",
            "(1, 3)  has flow  0\n",
            "Total Cost is  0\n"
          ]
        }
      ],
      "source": [
        "Flows(G2)"
      ]
    },
    {
      "cell_type": "code",
      "execution_count": 12,
      "metadata": {
        "id": "ZrdtIm6gQbpp"
      },
      "outputs": [],
      "source": [
        "c[1][2] = 2; c[1][3] = 4; c[2][3] = 1\n",
        "c[2][5] = 3; c[3][2] = 4\n",
        "c[3][4] = 2; c[4][2] = 2; c[4][5] = 3"
      ]
    },
    {
      "cell_type": "code",
      "execution_count": 13,
      "metadata": {
        "id": "5mAVBwssQbp1",
        "outputId": "03c6e205-b4f9-4528-e63a-409ea335ccb8",
        "colab": {
          "base_uri": "https://localhost:8080/"
        }
      },
      "outputs": [
        {
          "output_type": "stream",
          "name": "stdout",
          "text": [
            "Incremental Network: {(2, 3), (4, 5), (1, 2), (3, 4), (3, 2), (2, 5), (1, 3), (4, 2)}\n",
            "Paths from source to sink:  {(1, 3, 4, 2, 5), (1, 3, 4, 5), (1, 2, 5), (1, 2, 3, 4, 5), (1, 3, 2, 5)}\n",
            "A best path in Gp is  (1, 3, 4, 2, 5)  of minimum cost  0\n",
            "The min capacity on this path is epsilon  2\n",
            "The min cost is  0\n",
            "(1, 2)  flow =  0\n",
            "(3, 4)  flow =  2\n",
            "(4, 2)  flow =  2\n",
            "(2, 3)  flow =  0\n",
            "(4, 5)  flow =  0\n",
            "(3, 2)  flow =  0\n",
            "(2, 5)  flow =  2\n",
            "(1, 3)  flow =  2\n"
          ]
        }
      ],
      "source": [
        "Iterate(G2)"
      ]
    },
    {
      "cell_type": "code",
      "source": [
        "Iterate(G2)"
      ],
      "metadata": {
        "id": "7XrvbKhhQ29c",
        "outputId": "eadb0d5f-3ea7-4791-dca9-b90a5b4eb468",
        "colab": {
          "base_uri": "https://localhost:8080/"
        }
      },
      "execution_count": 14,
      "outputs": [
        {
          "output_type": "stream",
          "name": "stdout",
          "text": [
            "Incremental Network: {(2, 4), (1, 2), (4, 3), (3, 1), (2, 3), (4, 5), (3, 2), (2, 5), (1, 3), (5, 2)}\n",
            "Paths from source to sink:  {(1, 3, 2, 5), (1, 3, 2, 4, 5), (1, 2, 4, 5), (1, 2, 5)}\n",
            "A best path in Gp is  (1, 3, 2, 5)  of minimum cost  0\n",
            "The min capacity on this path is epsilon  1\n",
            "The min cost is  0\n",
            "(1, 2)  flow =  0\n",
            "(3, 4)  flow =  2\n",
            "(4, 2)  flow =  2\n",
            "(2, 3)  flow =  0\n",
            "(4, 5)  flow =  0\n",
            "(3, 2)  flow =  1\n",
            "(2, 5)  flow =  3\n",
            "(1, 3)  flow =  3\n"
          ]
        }
      ]
    },
    {
      "cell_type": "code",
      "source": [
        "Iterate(G2)"
      ],
      "metadata": {
        "id": "5DeFe4p1Q4xz",
        "outputId": "ebe3bfb0-f096-41e0-a078-907166bcfec2",
        "colab": {
          "base_uri": "https://localhost:8080/"
        }
      },
      "execution_count": 15,
      "outputs": [
        {
          "output_type": "stream",
          "name": "stdout",
          "text": [
            "Incremental Network: {(2, 4), (1, 2), (4, 3), (3, 1), (2, 3), (4, 5), (3, 2), (1, 3), (5, 2)}\n",
            "Paths from source to sink:  {(1, 3, 2, 4, 5), (1, 2, 4, 5)}\n",
            "A best path in Gp is  (1, 3, 2, 4, 5)  of minimum cost  0\n",
            "The min capacity on this path is epsilon  1\n",
            "The min cost is  0\n",
            "(1, 2)  flow =  0\n",
            "(3, 4)  flow =  2\n",
            "(4, 2)  flow =  1\n",
            "(2, 3)  flow =  0\n",
            "(4, 5)  flow =  1\n",
            "(3, 2)  flow =  2\n",
            "(2, 5)  flow =  3\n",
            "(1, 3)  flow =  4\n"
          ]
        }
      ]
    },
    {
      "cell_type": "code",
      "source": [
        "Iterate(G2)"
      ],
      "metadata": {
        "id": "6Mb39OaUQ5z9",
        "outputId": "923de4c3-c6ba-4ba7-b518-807c651608d8",
        "colab": {
          "base_uri": "https://localhost:8080/"
        }
      },
      "execution_count": 16,
      "outputs": [
        {
          "output_type": "stream",
          "name": "stdout",
          "text": [
            "Incremental Network: {(2, 4), (1, 2), (4, 3), (3, 1), (5, 4), (4, 2), (2, 3), (4, 5), (3, 2), (5, 2)}\n",
            "Paths from source to sink:  {(1, 2, 4, 5)}\n",
            "A best path in Gp is  (1, 2, 4, 5)  of minimum cost  0\n",
            "The min capacity on this path is epsilon  1\n",
            "The min cost is  0\n",
            "(1, 2)  flow =  1\n",
            "(3, 4)  flow =  2\n",
            "(4, 2)  flow =  0\n",
            "(2, 3)  flow =  0\n",
            "(4, 5)  flow =  2\n",
            "(3, 2)  flow =  2\n",
            "(2, 5)  flow =  3\n",
            "(1, 3)  flow =  4\n"
          ]
        }
      ]
    },
    {
      "cell_type": "code",
      "source": [
        "Iterate(G2)"
      ],
      "metadata": {
        "id": "vgmRstFTQ60n",
        "outputId": "0a19cef4-5273-4585-e1fe-4defe6eae019",
        "colab": {
          "base_uri": "https://localhost:8080/"
        }
      },
      "execution_count": 17,
      "outputs": [
        {
          "output_type": "stream",
          "name": "stdout",
          "text": [
            "Incremental Network: {(1, 2), (2, 1), (4, 3), (3, 1), (5, 4), (4, 2), (2, 3), (4, 5), (3, 2), (5, 2)}\n",
            "Paths from source to sink:  set()\n",
            "Maximal flow found: 5  with minimal cost  0\n",
            "(1, 2)  flow =  1\n",
            "(3, 4)  flow =  2\n",
            "(4, 2)  flow =  0\n",
            "(2, 3)  flow =  0\n",
            "(4, 5)  flow =  2\n",
            "(3, 2)  flow =  2\n",
            "(2, 5)  flow =  3\n",
            "(1, 3)  flow =  4\n"
          ]
        }
      ]
    },
    {
      "cell_type": "code",
      "source": [],
      "metadata": {
        "id": "NVyQ_ytUQ8sb"
      },
      "execution_count": null,
      "outputs": []
    },
    {
      "cell_type": "markdown",
      "metadata": {
        "id": "pZhhIEWzQbpp"
      },
      "source": [
        "## Q.3 (*) A road network is shown below with the capacity on each road indicated. Notice that many roads are two way.\n",
        "![Network](https://github.com/mcgettrick/mp305/blob/main/Lab1_3.jpg?raw=1)\n",
        "### \\* Find the maximal flow through the network from `A` to `B`.\n",
        "### \\* Compare this to maximal flow from `B`  to `A` ."
      ]
    },
    {
      "cell_type": "code",
      "source": [
        "G3 = {\n",
        "    (1, 2), (2, 1),\n",
        "    (1,3), (3,1),\n",
        "    (2, 5),\n",
        "    (3, 7),\n",
        "    (3, 4),(4,3),(4,2),\n",
        "    (5, 8), (8, 5),\n",
        "    (4, 6),(6,4),(5,6),\n",
        "    (7, 6),(7,8),(8,7)\n",
        "}"
      ],
      "metadata": {
        "id": "M35wBRn-TYMN"
      },
      "execution_count": 18,
      "outputs": []
    },
    {
      "cell_type": "code",
      "source": [
        "Initialise (G3)"
      ],
      "metadata": {
        "id": "x1OPRDcvTgY0",
        "outputId": "f284dbcd-afe0-4837-b7d9-37f773b1a83a",
        "colab": {
          "base_uri": "https://localhost:8080/"
        }
      },
      "execution_count": 19,
      "outputs": [
        {
          "output_type": "stream",
          "name": "stdout",
          "text": [
            "All values of c,phi and l initialised to zero\n"
          ]
        }
      ]
    },
    {
      "cell_type": "code",
      "source": [
        "Flows(G3)"
      ],
      "metadata": {
        "id": "sYDQDb_UTwd-",
        "outputId": "619a1186-5136-48b0-c57f-5b2eeb6397df",
        "colab": {
          "base_uri": "https://localhost:8080/"
        }
      },
      "execution_count": 20,
      "outputs": [
        {
          "output_type": "stream",
          "name": "stdout",
          "text": [
            "(1, 2)  has flow  0\n",
            "(2, 1)  has flow  0\n",
            "(3, 4)  has flow  0\n",
            "(4, 3)  has flow  0\n",
            "(3, 1)  has flow  0\n",
            "(3, 7)  has flow  0\n",
            "(4, 6)  has flow  0\n",
            "(6, 4)  has flow  0\n",
            "(7, 6)  has flow  0\n",
            "(2, 5)  has flow  0\n",
            "(1, 3)  has flow  0\n",
            "(5, 8)  has flow  0\n",
            "(8, 7)  has flow  0\n",
            "(4, 2)  has flow  0\n",
            "(5, 6)  has flow  0\n",
            "(8, 5)  has flow  0\n",
            "(7, 8)  has flow  0\n",
            "Total Cost is  0\n"
          ]
        }
      ]
    },
    {
      "cell_type": "code",
      "source": [
        "c[1][2] = 5; c[2][1] = 5; c[3][4] = 5\n",
        "c[4][3] = 5; c[3][1] = 4; c[3][7] = 3\n",
        "c[4][6] = 5; c[6][4] = 5; c[7][6] = 4\n",
        "c[2][5] = 3; c[1][3] = 4; c[5][8] = 6\n",
        "c[8][7] = 4; c[4][2] = 4; c[5][6] = 2\n",
        "c[8][5] = 6; c[7][8] = 4"
      ],
      "metadata": {
        "id": "zkyeMyXlT2Jf"
      },
      "execution_count": 21,
      "outputs": []
    },
    {
      "cell_type": "code",
      "source": [
        "Iterate(G3)"
      ],
      "metadata": {
        "id": "jdcVcav_UcPR",
        "outputId": "880855aa-fa24-4c3a-d257-d6130ab2e52d",
        "colab": {
          "base_uri": "https://localhost:8080/"
        }
      },
      "execution_count": 22,
      "outputs": [
        {
          "output_type": "stream",
          "name": "stdout",
          "text": [
            "Incremental Network: {(1, 2), (2, 1), (3, 4), (4, 3), (3, 1), (3, 7), (4, 6), (6, 4), (7, 6), (2, 5), (1, 3), (5, 8), (8, 7), (4, 2), (5, 6), (8, 5), (7, 8)}\n",
            "Paths from source to sink:  {(1, 3, 7, 8), (1, 2, 5, 8), (1, 2, 5, 6, 4, 3, 7, 8), (1, 3, 7, 6, 4, 2, 5, 8), (1, 3, 4, 2, 5, 8)}\n",
            "A best path in Gp is  (1, 3, 7, 8)  of minimum cost  0\n",
            "The min capacity on this path is epsilon  3\n",
            "The min cost is  0\n",
            "(1, 2)  flow =  0\n",
            "(2, 1)  flow =  0\n",
            "(3, 4)  flow =  0\n",
            "(4, 3)  flow =  0\n",
            "(3, 1)  flow =  0\n",
            "(3, 7)  flow =  3\n",
            "(4, 6)  flow =  0\n",
            "(6, 4)  flow =  0\n",
            "(7, 6)  flow =  0\n",
            "(2, 5)  flow =  0\n",
            "(1, 3)  flow =  3\n",
            "(5, 8)  flow =  0\n",
            "(8, 7)  flow =  0\n",
            "(4, 2)  flow =  0\n",
            "(5, 6)  flow =  0\n",
            "(8, 5)  flow =  0\n",
            "(7, 8)  flow =  3\n"
          ]
        }
      ]
    },
    {
      "cell_type": "code",
      "source": [
        "Iterate(G3)"
      ],
      "metadata": {
        "id": "He3hWJL5UhOd",
        "outputId": "dc8a158f-fcc9-4125-b28f-9f635070f45e",
        "colab": {
          "base_uri": "https://localhost:8080/"
        }
      },
      "execution_count": 23,
      "outputs": [
        {
          "output_type": "stream",
          "name": "stdout",
          "text": [
            "Incremental Network: {(1, 2), (2, 1), (3, 4), (4, 3), (3, 1), (4, 6), (6, 4), (7, 3), (7, 6), (2, 5), (1, 3), (5, 8), (8, 7), (4, 2), (5, 6), (8, 5), (7, 8)}\n",
            "Paths from source to sink:  {(1, 2, 5, 8), (1, 3, 4, 2, 5, 8)}\n",
            "A best path in Gp is  (1, 2, 5, 8)  of minimum cost  0\n",
            "The min capacity on this path is epsilon  3\n",
            "The min cost is  0\n",
            "(1, 2)  flow =  3\n",
            "(2, 1)  flow =  0\n",
            "(3, 4)  flow =  0\n",
            "(4, 3)  flow =  0\n",
            "(3, 1)  flow =  0\n",
            "(3, 7)  flow =  3\n",
            "(4, 6)  flow =  0\n",
            "(6, 4)  flow =  0\n",
            "(7, 6)  flow =  0\n",
            "(2, 5)  flow =  3\n",
            "(1, 3)  flow =  3\n",
            "(5, 8)  flow =  3\n",
            "(8, 7)  flow =  0\n",
            "(4, 2)  flow =  0\n",
            "(5, 6)  flow =  0\n",
            "(8, 5)  flow =  0\n",
            "(7, 8)  flow =  3\n"
          ]
        }
      ]
    },
    {
      "cell_type": "code",
      "source": [
        "Iterate(G3)"
      ],
      "metadata": {
        "id": "wwk4Ba-cUihN",
        "outputId": "8074fad6-6e7f-4b73-ee0e-7e70ec4916bd",
        "colab": {
          "base_uri": "https://localhost:8080/"
        }
      },
      "execution_count": 24,
      "outputs": [
        {
          "output_type": "stream",
          "name": "stdout",
          "text": [
            "Incremental Network: {(1, 2), (2, 1), (3, 4), (4, 3), (3, 1), (4, 6), (6, 4), (7, 3), (7, 6), (1, 3), (5, 2), (5, 8), (8, 7), (4, 2), (5, 6), (8, 5), (7, 8)}\n",
            "Paths from source to sink:  set()\n",
            "Maximal flow found: 6  with minimal cost  0\n",
            "(1, 2)  flow =  3\n",
            "(2, 1)  flow =  0\n",
            "(3, 4)  flow =  0\n",
            "(4, 3)  flow =  0\n",
            "(3, 1)  flow =  0\n",
            "(3, 7)  flow =  3\n",
            "(4, 6)  flow =  0\n",
            "(6, 4)  flow =  0\n",
            "(7, 6)  flow =  0\n",
            "(2, 5)  flow =  3\n",
            "(1, 3)  flow =  3\n",
            "(5, 8)  flow =  3\n",
            "(8, 7)  flow =  0\n",
            "(4, 2)  flow =  0\n",
            "(5, 6)  flow =  0\n",
            "(8, 5)  flow =  0\n",
            "(7, 8)  flow =  3\n"
          ]
        }
      ]
    },
    {
      "cell_type": "code",
      "source": [
        "G4={(1,2),(2,1),(3,2),(3,8),(8,3),(1,4),(4,1),(2,5),(6,3),(7,8),(8,7),(4,5),(5,6),(6,5),(6,7),(7,6),(7,4)}"
      ],
      "metadata": {
        "id": "p_30Ss-TUjgn"
      },
      "execution_count": 25,
      "outputs": []
    },
    {
      "cell_type": "code",
      "source": [
        "Initialise (G4)"
      ],
      "metadata": {
        "id": "GL78aDuqUwYg",
        "outputId": "8bb9bee9-1f43-4ae4-bc9d-820a62fc8fa8",
        "colab": {
          "base_uri": "https://localhost:8080/"
        }
      },
      "execution_count": 26,
      "outputs": [
        {
          "output_type": "stream",
          "name": "stdout",
          "text": [
            "All values of c,phi and l initialised to zero\n"
          ]
        }
      ]
    },
    {
      "cell_type": "code",
      "source": [
        "Flows(G4)"
      ],
      "metadata": {
        "id": "JerLKuXUUybL",
        "outputId": "c5bcfd18-0a10-4786-abbf-2dd74544e615",
        "colab": {
          "base_uri": "https://localhost:8080/"
        }
      },
      "execution_count": 27,
      "outputs": [
        {
          "output_type": "stream",
          "name": "stdout",
          "text": [
            "(1, 2)  has flow  0\n",
            "(2, 1)  has flow  0\n",
            "(6, 7)  has flow  0\n",
            "(8, 3)  has flow  0\n",
            "(7, 6)  has flow  0\n",
            "(3, 2)  has flow  0\n",
            "(2, 5)  has flow  0\n",
            "(4, 1)  has flow  0\n",
            "(7, 4)  has flow  0\n",
            "(3, 8)  has flow  0\n",
            "(6, 5)  has flow  0\n",
            "(8, 7)  has flow  0\n",
            "(1, 4)  has flow  0\n",
            "(4, 5)  has flow  0\n",
            "(5, 6)  has flow  0\n",
            "(6, 3)  has flow  0\n",
            "(7, 8)  has flow  0\n",
            "Total Cost is  0\n"
          ]
        }
      ]
    },
    {
      "cell_type": "code",
      "source": [
        "c[1][2] = 6; c[2][1] = 6; c[3][2] = 3\n",
        "c[3][8] = 5; c[8][3] = 5; c[1][4] = 4\n",
        "c[4][1] = 4; c[2][5] = 2; c[6][3] = 4\n",
        "c[7][8] = 4; c[8][7] = 4; c[4][5] = 4\n",
        "c[5][6] = 5; c[6][5] = 5; c[6][7] = 5\n",
        "c[7][6] = 5; c[7][4] = 3"
      ],
      "metadata": {
        "id": "sKBXssj_U0ty"
      },
      "execution_count": 28,
      "outputs": []
    },
    {
      "cell_type": "code",
      "source": [
        "Iterate(G4)"
      ],
      "metadata": {
        "id": "Oz9zYebEU_JW",
        "outputId": "09f309b9-9ae8-417c-9477-3e38f6423a88",
        "colab": {
          "base_uri": "https://localhost:8080/"
        }
      },
      "execution_count": 29,
      "outputs": [
        {
          "output_type": "stream",
          "name": "stdout",
          "text": [
            "Incremental Network: {(1, 2), (2, 1), (6, 7), (8, 3), (7, 6), (3, 2), (2, 5), (4, 1), (7, 4), (3, 8), (6, 5), (8, 7), (1, 4), (4, 5), (5, 6), (6, 3), (7, 8)}\n",
            "Paths from source to sink:  {(1, 4, 5, 6, 7, 8), (1, 2, 5, 6, 7, 8), (1, 4, 5, 6, 3, 8), (1, 2, 5, 6, 3, 8)}\n",
            "A best path in Gp is  (1, 4, 5, 6, 7, 8)  of minimum cost  0\n",
            "The min capacity on this path is epsilon  4\n",
            "The min cost is  0\n",
            "(1, 2)  flow =  0\n",
            "(2, 1)  flow =  0\n",
            "(6, 7)  flow =  4\n",
            "(8, 3)  flow =  0\n",
            "(7, 6)  flow =  0\n",
            "(3, 2)  flow =  0\n",
            "(2, 5)  flow =  0\n",
            "(4, 1)  flow =  0\n",
            "(7, 4)  flow =  0\n",
            "(3, 8)  flow =  0\n",
            "(6, 5)  flow =  0\n",
            "(8, 7)  flow =  0\n",
            "(1, 4)  flow =  4\n",
            "(4, 5)  flow =  4\n",
            "(5, 6)  flow =  4\n",
            "(6, 3)  flow =  0\n",
            "(7, 8)  flow =  4\n"
          ]
        }
      ]
    },
    {
      "cell_type": "code",
      "source": [
        "Iterate(G4)"
      ],
      "metadata": {
        "id": "1_te64UpU_ht",
        "outputId": "285d63b4-4e1b-4884-8cba-8acc79e69e73",
        "colab": {
          "base_uri": "https://localhost:8080/"
        }
      },
      "execution_count": 30,
      "outputs": [
        {
          "output_type": "stream",
          "name": "stdout",
          "text": [
            "Incremental Network: {(7, 4), (3, 8), (1, 2), (2, 1), (6, 5), (8, 7), (5, 4), (6, 7), (8, 3), (7, 6), (6, 3), (5, 6), (3, 2), (2, 5), (4, 1)}\n",
            "Paths from source to sink:  {(1, 2, 5, 6, 3, 8)}\n",
            "A best path in Gp is  (1, 2, 5, 6, 3, 8)  of minimum cost  0\n",
            "The min capacity on this path is epsilon  1\n",
            "The min cost is  0\n",
            "(1, 2)  flow =  1\n",
            "(2, 1)  flow =  0\n",
            "(6, 7)  flow =  4\n",
            "(8, 3)  flow =  0\n",
            "(7, 6)  flow =  0\n",
            "(3, 2)  flow =  0\n",
            "(2, 5)  flow =  1\n",
            "(4, 1)  flow =  0\n",
            "(7, 4)  flow =  0\n",
            "(3, 8)  flow =  1\n",
            "(6, 5)  flow =  0\n",
            "(8, 7)  flow =  0\n",
            "(1, 4)  flow =  4\n",
            "(4, 5)  flow =  4\n",
            "(5, 6)  flow =  5\n",
            "(6, 3)  flow =  1\n",
            "(7, 8)  flow =  4\n"
          ]
        }
      ]
    },
    {
      "cell_type": "code",
      "source": [
        "Iterate(G4)"
      ],
      "metadata": {
        "id": "5diKDSYeVAZZ",
        "outputId": "77023acc-0827-476f-c1ff-8600f7f8ebc3",
        "colab": {
          "base_uri": "https://localhost:8080/"
        }
      },
      "execution_count": 31,
      "outputs": [
        {
          "output_type": "stream",
          "name": "stdout",
          "text": [
            "Incremental Network: {(7, 4), (3, 8), (1, 2), (2, 1), (6, 5), (8, 7), (5, 4), (6, 7), (8, 3), (7, 6), (6, 3), (3, 6), (3, 2), (2, 5), (4, 1), (5, 2)}\n",
            "Paths from source to sink:  set()\n",
            "Maximal flow found: 5  with minimal cost  0\n",
            "(1, 2)  flow =  1\n",
            "(2, 1)  flow =  0\n",
            "(6, 7)  flow =  4\n",
            "(8, 3)  flow =  0\n",
            "(7, 6)  flow =  0\n",
            "(3, 2)  flow =  0\n",
            "(2, 5)  flow =  1\n",
            "(4, 1)  flow =  0\n",
            "(7, 4)  flow =  0\n",
            "(3, 8)  flow =  1\n",
            "(6, 5)  flow =  0\n",
            "(8, 7)  flow =  0\n",
            "(1, 4)  flow =  4\n",
            "(4, 5)  flow =  4\n",
            "(5, 6)  flow =  5\n",
            "(6, 3)  flow =  1\n",
            "(7, 8)  flow =  4\n"
          ]
        }
      ]
    },
    {
      "cell_type": "code",
      "source": [],
      "metadata": {
        "id": "oEZdJX3CVBI9"
      },
      "execution_count": null,
      "outputs": []
    }
  ],
  "metadata": {
    "kernelspec": {
      "display_name": "Python 3 (ipykernel)",
      "language": "python",
      "name": "python3"
    },
    "language_info": {
      "codemirror_mode": {
        "name": "ipython",
        "version": 3
      },
      "file_extension": ".py",
      "mimetype": "text/x-python",
      "name": "python",
      "nbconvert_exporter": "python",
      "pygments_lexer": "ipython3",
      "version": "3.11.4"
    },
    "colab": {
      "provenance": []
    }
  },
  "nbformat": 4,
  "nbformat_minor": 0
}